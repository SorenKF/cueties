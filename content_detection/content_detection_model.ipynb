{
 "cells": [
  {
   "cell_type": "code",
   "execution_count": 1,
   "metadata": {},
   "outputs": [],
   "source": [
    "# If you have not done so already: pip install sklearn-crfsuite\n",
    "import sklearn_crfsuite\n",
    "#import pandas as pd\n",
    "import glob\n",
    "from csv import DictReader, DictWriter"
   ]
  },
  {
   "cell_type": "code",
   "execution_count": 2,
   "metadata": {},
   "outputs": [],
   "source": [
    "filename_train = './../../Data/parc_features/parc_train_features_small.tsv'\n",
    "filename_test = './../../Data/parc_features/parc_test_features_small.tsv'\n",
    "filepath_out = './../../Data/parc_features/parc_test_predicted_features_small.tsv'"
   ]
  },
  {
   "cell_type": "code",
   "execution_count": 9,
   "metadata": {},
   "outputs": [
    {
     "ename": "SyntaxError",
     "evalue": "invalid syntax (<ipython-input-9-bb78fd3d9e77>, line 1)",
     "output_type": "error",
     "traceback": [
      "\u001b[1;36m  File \u001b[1;32m\"<ipython-input-9-bb78fd3d9e77>\"\u001b[1;36m, line \u001b[1;32m1\u001b[0m\n\u001b[1;33m    python content_detection_model.py './../../Data/parc_features/parc_train_features_small.tsv' './../../Data/parc_features/parc_test_features_small.tsv'\u001b[0m\n\u001b[1;37m                                 ^\u001b[0m\n\u001b[1;31mSyntaxError\u001b[0m\u001b[1;31m:\u001b[0m invalid syntax\n"
     ]
    }
   ],
   "source": [
    "# python content_detection_model.py ./../../Data/parc_features/parc_train_features_small.tsv ./../../Data/parc_features/parc_test_features_small.tsv ./../../Data/parc_features/parc_test_predicted_features_small.tsv"
   ]
  },
  {
   "cell_type": "code",
   "execution_count": 3,
   "metadata": {},
   "outputs": [],
   "source": [
    "def extract_features_and_labels(list_of_dicts):\n",
    "    feature_dicts = []\n",
    "    label_list = []\n",
    "    for token_dict in list_of_dicts:\n",
    "        label = token_dict.pop('content_label_gold')\n",
    "        feature_dicts.append(token_dict)\n",
    "        label_list.append(label)\n",
    "        \n",
    "    return [feature_dicts], [label_list]\n",
    "\n",
    "\n",
    "def read_data(filepath):\n",
    "    with open(filepath, 'r') as infile:\n",
    "        dict_reader = DictReader(infile, delimiter='\\t')\n",
    "        data = list(dict_reader)\n",
    "    return data\n",
    "\n",
    "def train_crf(X_train, y_train):\n",
    "    crf = sklearn_crfsuite.CRF(  \n",
    "            algorithm='lbfgs',  \n",
    "            c1=0.1,  \n",
    "            c2=0.1,  \n",
    "            max_iterations=100,  \n",
    "            all_possible_transitions=True  \n",
    "        ) \n",
    "    crf.fit(X_train, y_train)\n",
    "    return crf\n",
    "\n",
    "def test_crf_prediction(crf, X_test, y_test):  \n",
    "    #labels = show_crf_label(crf)  \n",
    "    y_pred = crf.predict(X_test)  \n",
    "    return y_pred\n",
    "\n",
    "def join_test_gold_pred(X_test, y_test, y_pred): #TODO Change to X_test[0]\n",
    "    assert len(X_test[0]) == len(y_test[0]), 'X_test and y_test are not same length'\n",
    "    assert len(y_test[0]) == len(y_pred[0]), 'y_test and y_pred are not same length'\n",
    "    test_pred_data = []\n",
    "    for i in range(len(X_test[0])): \n",
    "        token_dict = X_test[0][i]\n",
    "        \n",
    "        token_dict['content_label_gold'] = y_test[0][i]\n",
    "        token_dict['content_label_pred'] = y_pred[0][i]\n",
    "        test_pred_data.append(token_dict)\n",
    "    return test_pred_data\n",
    "        \n",
    "def write_dicts_to_file(filepath_out, list_of_dicts):\n",
    "    with open(filepath_out, 'w', newline='\\n') as outfile:\n",
    "        writer = DictWriter(outfile, fieldnames=list_of_dicts[0].keys(), delimiter='\\t')\n",
    "        writer.writeheader()\n",
    "        for data in list_of_dicts:\n",
    "            writer.writerow(data)"
   ]
  },
  {
   "cell_type": "code",
   "execution_count": 6,
   "metadata": {},
   "outputs": [],
   "source": []
  },
  {
   "cell_type": "code",
   "execution_count": 7,
   "metadata": {},
   "outputs": [],
   "source": [
    "# Read in data\n",
    "train_data = read_data(filename_train)\n",
    "test_data = read_data(filename_test)\n",
    "# Separate data into features and labels\n",
    "X_train, y_train = extract_features_and_labels(train_data)\n",
    "X_test, y_test = extract_features_and_labels(test_data)\n",
    "# Train the model\n",
    "crf = train_crf(X_train, y_train)\n",
    "# Predict on test data\n",
    "y_pred = test_crf_prediction(crf, X_test, y_test)\n",
    "# Join features, gold labels and predicted labels\n",
    "true_pred_data = join_test_gold_pred(X_test, y_test, y_pred)\n",
    "# Write to file\n",
    "write_dicts_to_file(filepath_out, true_pred_data)"
   ]
  },
  {
   "cell_type": "code",
   "execution_count": null,
   "metadata": {},
   "outputs": [],
   "source": []
  }
 ],
 "metadata": {
  "kernelspec": {
   "display_name": "Python 3",
   "language": "python",
   "name": "python3"
  },
  "language_info": {
   "codemirror_mode": {
    "name": "ipython",
    "version": 3
   },
   "file_extension": ".py",
   "mimetype": "text/x-python",
   "name": "python",
   "nbconvert_exporter": "python",
   "pygments_lexer": "ipython3",
   "version": "3.7.3"
  }
 },
 "nbformat": 4,
 "nbformat_minor": 2
}
