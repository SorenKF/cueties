{
 "cells": [
  {
   "cell_type": "code",
   "execution_count": 1,
   "metadata": {},
   "outputs": [],
   "source": [
    "# If you have not done so already: pip install sklearn-crfsuite\n",
    "import sklearn_crfsuite\n",
    "import pandas as pd\n",
    "import glob\n",
    "from csv import DictReader"
   ]
  },
  {
   "cell_type": "code",
   "execution_count": 2,
   "metadata": {},
   "outputs": [],
   "source": [
    "filename = './../../Data/parc_features/parc_dev_features.tsv'"
   ]
  },
  {
   "cell_type": "code",
   "execution_count": 52,
   "metadata": {},
   "outputs": [],
   "source": [
    "def extract_features_and_labels(list_of_dicts):\n",
    "    feature_dicts = []\n",
    "    label_list = []\n",
    "    for token_dict in list_of_dicts:\n",
    "        label = token_dict.pop('content_label_gold')\n",
    "        feature_dicts.append(token_dict)\n",
    "        label_list.append([label])\n",
    "        \n",
    "    return feature_dicts, label_list\n",
    "\n",
    "def train_crf(X_train, y_train):  \n",
    "    crf = sklearn_crfsuite.CRF(  \n",
    "        algorithm='lbfgs',  \n",
    "        c1=0.1,  \n",
    "        c2=0.1,  \n",
    "        max_iterations=100,  \n",
    "        all_possible_transitions=True\n",
    "    )  \n",
    "    return crf.fit(X_train, y_train)"
   ]
  },
  {
   "cell_type": "code",
   "execution_count": 53,
   "metadata": {},
   "outputs": [
    {
     "name": "stdout",
     "output_type": "stream",
     "text": [
      "OrderedDict([('', '0'), ('POS', 'DT'), ('dependency_head', '2'), ('dependency_label', 'det'), ('doc_token_number', '1'), ('lemma', 'the'), ('ne_info', 'O'), ('sentence_number', '1'), ('sentence_token_number', '1'), ('token', 'The'), ('cue_label', '0'), ('attribution', '_ _ _ _ _ _ _ _ _ _ _ _ _ _ _ _ _ _ _ _ _ _ _ _ _ _'), ('token_-1', '.'), ('token_-2', '.'), ('token_-3', '.'), ('token_-4', '.'), ('token_-5', '.'), ('token_+1', 'economy'), ('token_+2', \"'s\"), ('token_+3', 'temperature'), ('token_+4', 'will'), ('token_+5', 'be'), ('lemma_-1', '.'), ('lemma_-2', '.'), ('lemma_-3', '.'), ('lemma_-4', '.'), ('lemma_-5', '.'), ('lemma_+1', 'economy'), ('lemma_+2', \"'s\"), ('lemma_+3', 'temperature'), ('lemma_+4', 'will'), ('lemma_+5', 'be'), ('POS_-1', '.'), ('POS_-2', '.'), ('POS_-3', '.'), ('POS_-4', '.'), ('POS_-5', '.'), ('POS_+1', 'NN'), ('POS_+2', 'POS'), ('POS_+3', 'NN'), ('POS_+4', 'MD'), ('POS_+5', 'VB'), ('bigram_prev_token', 'The .'), ('bigram_prev_lemma', 'the .'), ('bigram_prev_POS', 'DT .'), ('bigram_following_token', 'The economy'), ('bigram_following_lemma', 'the economy'), ('bigram_following_POS', 'DT NN'), ('shape', 'Xx'), ('ne_short', ''), ('relevant_ne', '0'), ('ne_+-5', '0'), ('candidate_cue', '0'), ('reporting_verb', '0'), ('quotation', 'O'), ('near_sent_boundary', '1'), ('near_doc_boundary', '1'), ('dist_beg_sent', '0'), ('dist_end_sent', '23'), ('sent_len', '24'), ('pn_in_sent', '0'), ('ne_in_sent', '1'), ('qm_in_sent', '0'), ('any_in_sent', '1'), ('quotation_pn', 'O0'), ('quotation_ne', 'O1'), ('quotation_qm', 'O0'), ('filename', 'wsj_2400.tsv'), ('content_label_gold', 'O'), ('ancestor_is_cue', '0'), ('cue_in_window_of_5', '0'), ('distance_to_prev_cue', 'NaN'), ('distance_to_next_cue', '60'), ('cue_in_sentence', '0')])\n"
     ]
    }
   ],
   "source": [
    "with open(filename, 'r') as infile:\n",
    "    dict_reader = DictReader(infile, delimiter='\\t')\n",
    "    train_data = list(dict_reader)\n",
    "    \n",
    "#train_data = train_data[:10]\n",
    "print(train_data[0])"
   ]
  },
  {
   "cell_type": "code",
   "execution_count": 54,
   "metadata": {},
   "outputs": [],
   "source": [
    "X_train, y_train = extract_features_and_labels(train_data)"
   ]
  },
  {
   "cell_type": "code",
   "execution_count": 55,
   "metadata": {},
   "outputs": [
    {
     "name": "stdout",
     "output_type": "stream",
     "text": [
      "1\n",
      "32852\n",
      "\n",
      "y_train\n",
      "1\n",
      "32852\n"
     ]
    }
   ],
   "source": [
    "X_train = [X_train]\n",
    "y_train = [y_train]\n",
    "print(len(X_train))\n",
    "print(len(X_train[0]))\n",
    "print()\n",
    "print('y_train')\n",
    "print(len(y_train))\n",
    "print(len(y_train[0]))"
   ]
  },
  {
   "cell_type": "code",
   "execution_count": 56,
   "metadata": {},
   "outputs": [
    {
     "ename": "TypeError",
     "evalue": "expected bytes, list found",
     "output_type": "error",
     "traceback": [
      "\u001b[1;31m---------------------------------------------------------------------------\u001b[0m",
      "\u001b[1;31mTypeError\u001b[0m                                 Traceback (most recent call last)",
      "\u001b[1;32m<ipython-input-56-68f5e24dd14f>\u001b[0m in \u001b[0;36m<module>\u001b[1;34m\u001b[0m\n\u001b[0;32m      6\u001b[0m         \u001b[0mall_possible_transitions\u001b[0m\u001b[1;33m=\u001b[0m\u001b[1;32mTrue\u001b[0m\u001b[1;33m\u001b[0m\u001b[1;33m\u001b[0m\u001b[0m\n\u001b[0;32m      7\u001b[0m     ) \n\u001b[1;32m----> 8\u001b[1;33m \u001b[0mcrf\u001b[0m\u001b[1;33m.\u001b[0m\u001b[0mfit\u001b[0m\u001b[1;33m(\u001b[0m\u001b[0mX_train\u001b[0m\u001b[1;33m,\u001b[0m \u001b[0my_train\u001b[0m\u001b[1;33m)\u001b[0m\u001b[1;33m\u001b[0m\u001b[1;33m\u001b[0m\u001b[0m\n\u001b[0m",
      "\u001b[1;32m~\\AppData\\Local\\Continuum\\anaconda3\\lib\\site-packages\\sklearn_crfsuite\\estimator.py\u001b[0m in \u001b[0;36mfit\u001b[1;34m(self, X, y, X_dev, y_dev)\u001b[0m\n\u001b[0;32m    312\u001b[0m \u001b[1;33m\u001b[0m\u001b[0m\n\u001b[0;32m    313\u001b[0m         \u001b[1;32mfor\u001b[0m \u001b[0mxseq\u001b[0m\u001b[1;33m,\u001b[0m \u001b[0myseq\u001b[0m \u001b[1;32min\u001b[0m \u001b[0mtrain_data\u001b[0m\u001b[1;33m:\u001b[0m\u001b[1;33m\u001b[0m\u001b[1;33m\u001b[0m\u001b[0m\n\u001b[1;32m--> 314\u001b[1;33m             \u001b[0mtrainer\u001b[0m\u001b[1;33m.\u001b[0m\u001b[0mappend\u001b[0m\u001b[1;33m(\u001b[0m\u001b[0mxseq\u001b[0m\u001b[1;33m,\u001b[0m \u001b[0myseq\u001b[0m\u001b[1;33m)\u001b[0m\u001b[1;33m\u001b[0m\u001b[1;33m\u001b[0m\u001b[0m\n\u001b[0m\u001b[0;32m    315\u001b[0m \u001b[1;33m\u001b[0m\u001b[0m\n\u001b[0;32m    316\u001b[0m         \u001b[1;32mif\u001b[0m \u001b[0mself\u001b[0m\u001b[1;33m.\u001b[0m\u001b[0mverbose\u001b[0m\u001b[1;33m:\u001b[0m\u001b[1;33m\u001b[0m\u001b[1;33m\u001b[0m\u001b[0m\n",
      "\u001b[1;32mpycrfsuite\\_pycrfsuite.pyx\u001b[0m in \u001b[0;36mpycrfsuite._pycrfsuite.BaseTrainer.append\u001b[1;34m()\u001b[0m\n",
      "\u001b[1;32m~\\AppData\\Local\\Continuum\\anaconda3\\lib\\site-packages\\pycrfsuite\\_pycrfsuite.cp37-win_amd64.pyd\u001b[0m in \u001b[0;36mvector.from_py.__pyx_convert_vector_from_py_std_3a__3a_string\u001b[1;34m()\u001b[0m\n",
      "\u001b[1;32m~\\AppData\\Local\\Continuum\\anaconda3\\lib\\site-packages\\pycrfsuite\\_pycrfsuite.cp37-win_amd64.pyd\u001b[0m in \u001b[0;36mstring.from_py.__pyx_convert_string_from_py_std__in_string\u001b[1;34m()\u001b[0m\n",
      "\u001b[1;31mTypeError\u001b[0m: expected bytes, list found"
     ]
    }
   ],
   "source": [
    "crf = sklearn_crfsuite.CRF(  \n",
    "        algorithm='lbfgs',  \n",
    "        c1=0.1,  \n",
    "        c2=0.1,  \n",
    "        max_iterations=100,  \n",
    "        all_possible_transitions=True  \n",
    "    ) \n",
    "crf.fit(X_train, y_train)"
   ]
  },
  {
   "cell_type": "code",
   "execution_count": 42,
   "metadata": {},
   "outputs": [
    {
     "name": "stdout",
     "output_type": "stream",
     "text": [
      "Help on method fit in module sklearn_crfsuite.estimator:\n",
      "\n",
      "fit(X, y, X_dev=None, y_dev=None) method of sklearn_crfsuite.estimator.CRF instance\n",
      "    Train a model.\n",
      "    \n",
      "    Parameters\n",
      "    ----------\n",
      "    X : list of lists of dicts\n",
      "        Feature dicts for several documents (in a python-crfsuite format).\n",
      "    \n",
      "    y : list of lists of strings\n",
      "        Labels for several documents.\n",
      "    \n",
      "    X_dev : (optional) list of lists of dicts\n",
      "        Feature dicts used for testing.\n",
      "    \n",
      "    y_dev : (optional) list of lists of strings\n",
      "        Labels corresponding to X_dev.\n",
      "\n"
     ]
    }
   ],
   "source": [
    "help(crf.fit)"
   ]
  },
  {
   "cell_type": "code",
   "execution_count": null,
   "metadata": {},
   "outputs": [],
   "source": []
  }
 ],
 "metadata": {
  "kernelspec": {
   "display_name": "Python 3",
   "language": "python",
   "name": "python3"
  },
  "language_info": {
   "codemirror_mode": {
    "name": "ipython",
    "version": 3
   },
   "file_extension": ".py",
   "mimetype": "text/x-python",
   "name": "python",
   "nbconvert_exporter": "python",
   "pygments_lexer": "ipython3",
   "version": "3.7.3"
  }
 },
 "nbformat": 4,
 "nbformat_minor": 2
}
