{
 "cells": [
  {
   "cell_type": "code",
   "execution_count": 2,
   "metadata": {},
   "outputs": [],
   "source": [
    "import pandas as pd\n",
    "from sklearn.metrics import classification_report"
   ]
  },
  {
   "cell_type": "code",
   "execution_count": 3,
   "metadata": {},
   "outputs": [],
   "source": [
    "filename_parc_old = './../../Data/parc_features/parc_test_predicted_features_old.tsv'\n",
    "filename_polnear_old = './../../Data/polnear_features/polnear_test_predicted_features_old.tsv'\n",
    "filename_parc_new = './../../Data/parc_features/parc_test_predicted_features.tsv'\n",
    "filename_polnear_new = './../../Data/polnear_features/polnear_test_predicted_features.tsv'"
   ]
  },
  {
   "cell_type": "code",
   "execution_count": 4,
   "metadata": {},
   "outputs": [],
   "source": [
    "def get_basic_evals(filename):\n",
    "    df = pd.read_csv(filename, delimiter='\\t', index_col=0)\n",
    "\n",
    "    total = df.shape[0]\n",
    "    print('Total tokens:', total)\n",
    "    x = df.loc[df['content_label_gold'] == df['content_label_pred']].shape[0]\n",
    "    print('Correctly labeled:', x, x/total)\n",
    "    total_not_O = df.loc[df['content_label_gold'] != 'O'].shape[0]\n",
    "    x = df.loc[df['content_label_gold'] != 'O'].loc[df['content_label_gold'] == df['content_label_pred']].shape[0]\n",
    "    print('Not O:', total_not_O, total_not_O/total)\n",
    "    print('Correctly labeled, not O:', x, x/total_not_O)\n",
    "    print()\n",
    "    print(classification_report(df['content_label_gold'], df['content_label_pred']))\n",
    "    "
   ]
  },
  {
   "cell_type": "code",
   "execution_count": 5,
   "metadata": {},
   "outputs": [
    {
     "name": "stdout",
     "output_type": "stream",
     "text": [
      "PARC old\n",
      "Total tokens: 56672\n",
      "Correctly labeled: 56222 0.9920595708639187\n",
      "Not O: 19420 0.342673630717109\n",
      "Correctly labeled, not O: 19240 0.9907312049433573\n",
      "\n",
      "              precision    recall  f1-score   support\n",
      "\n",
      "           B       0.94      0.93      0.93      1029\n",
      "           I       0.98      0.99      0.99     18391\n",
      "           O       1.00      0.99      1.00     37252\n",
      "\n",
      "    accuracy                           0.99     56672\n",
      "   macro avg       0.97      0.97      0.97     56672\n",
      "weighted avg       0.99      0.99      0.99     56672\n",
      "\n",
      "\n",
      "PolNeAR old\n",
      "Total tokens: 73370\n",
      "Correctly labeled: 71109 0.9691835900231702\n",
      "Not O: 36620 0.4991140793239744\n",
      "Correctly labeled, not O: 36111 0.9861004915346805\n",
      "\n",
      "              precision    recall  f1-score   support\n",
      "\n",
      "           B       0.93      0.92      0.92      2059\n",
      "           I       0.95      0.99      0.97     34561\n",
      "           O       0.99      0.95      0.97     36750\n",
      "\n",
      "    accuracy                           0.97     73370\n",
      "   macro avg       0.96      0.95      0.96     73370\n",
      "weighted avg       0.97      0.97      0.97     73370\n",
      "\n",
      "\n",
      "PARC new\n",
      "Total tokens: 56672\n",
      "Correctly labeled: 56240 0.9923771880293619\n",
      "Not O: 19420 0.342673630717109\n",
      "Correctly labeled, not O: 19230 0.990216271884655\n",
      "\n",
      "              precision    recall  f1-score   support\n",
      "\n",
      "           B       0.94      0.93      0.93      1029\n",
      "           I       0.99      0.99      0.99     18391\n",
      "           O       1.00      0.99      1.00     37252\n",
      "\n",
      "    accuracy                           0.99     56672\n",
      "   macro avg       0.97      0.97      0.97     56672\n",
      "weighted avg       0.99      0.99      0.99     56672\n",
      "\n",
      "\n",
      "PolNeAR new\n",
      "Total tokens: 73370\n",
      "Correctly labeled: 71064 0.9685702603243833\n",
      "Not O: 36620 0.4991140793239744\n",
      "Correctly labeled, not O: 36114 0.9861824139814309\n",
      "\n",
      "              precision    recall  f1-score   support\n",
      "\n",
      "           B       0.93      0.92      0.92      2059\n",
      "           I       0.95      0.99      0.97     34561\n",
      "           O       0.99      0.95      0.97     36750\n",
      "\n",
      "    accuracy                           0.97     73370\n",
      "   macro avg       0.96      0.95      0.95     73370\n",
      "weighted avg       0.97      0.97      0.97     73370\n",
      "\n"
     ]
    }
   ],
   "source": [
    "print('PARC old')\n",
    "get_basic_evals(filename_parc_old)\n",
    "print()\n",
    "print('PolNeAR old')\n",
    "get_basic_evals(filename_polnear_old)\n",
    "print()\n",
    "print('PARC new')\n",
    "get_basic_evals(filename_parc_new)\n",
    "print()\n",
    "print('PolNeAR new')\n",
    "get_basic_evals(filename_polnear_new)"
   ]
  },
  {
   "cell_type": "code",
   "execution_count": null,
   "metadata": {},
   "outputs": [],
   "source": []
  }
 ],
 "metadata": {
  "kernelspec": {
   "display_name": "Python 3",
   "language": "python",
   "name": "python3"
  },
  "language_info": {
   "codemirror_mode": {
    "name": "ipython",
    "version": 3
   },
   "file_extension": ".py",
   "mimetype": "text/x-python",
   "name": "python",
   "nbconvert_exporter": "python",
   "pygments_lexer": "ipython3",
   "version": "3.7.3"
  }
 },
 "nbformat": 4,
 "nbformat_minor": 2
}
