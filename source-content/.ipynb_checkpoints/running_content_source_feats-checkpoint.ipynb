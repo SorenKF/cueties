{
 "cells": [
  {
   "cell_type": "code",
   "execution_count": 1,
   "metadata": {},
   "outputs": [],
   "source": [
    "import pandas as pd\n",
    "import instance_generation"
   ]
  },
  {
   "cell_type": "code",
   "execution_count": 2,
   "metadata": {},
   "outputs": [],
   "source": [
    "filepath = \"C:/Users/Ellie\\Documents/MASTERS/NLP/Project/parc_features/parc_features/parc_train_features.tsv\""
   ]
  },
  {
   "cell_type": "code",
   "execution_count": 3,
   "metadata": {},
   "outputs": [
    {
     "name": "stderr",
     "output_type": "stream",
     "text": [
      "C:\\Users\\Ellie\\Anaconda3\\lib\\site-packages\\numpy\\lib\\arraysetops.py:569: FutureWarning: elementwise comparison failed; returning scalar instead, but in the future will perform elementwise comparison\n",
      "  mask |= (ar1 == a)\n"
     ]
    }
   ],
   "source": [
    "df = pd.read_csv(filepath, delimiter='\\t', index_col=0)"
   ]
  },
  {
   "cell_type": "code",
   "execution_count": 8,
   "metadata": {},
   "outputs": [],
   "source": [
    "instance_output = instance_generation.collect_instances_main(df)"
   ]
  },
  {
   "cell_type": "code",
   "execution_count": 9,
   "metadata": {},
   "outputs": [
    {
     "name": "stdout",
     "output_type": "stream",
     "text": [
      "[[(58, 59), (57, 89), 0], [(60, 61), (57, 89), 0], [(65, 68), (57, 89), 0], [(72, 73), (57, 89), 0]]\n"
     ]
    }
   ],
   "source": [
    "print(instance_output[:4])"
   ]
  },
  {
   "cell_type": "code",
   "execution_count": 15,
   "metadata": {},
   "outputs": [
    {
     "name": "stdout",
     "output_type": "stream",
     "text": [
      "[0, 0, 0, 0]\n",
      "[((58, 59), (57, 89)), ((60, 61), (57, 89)), ((65, 68), (57, 89)), ((72, 73), (57, 89))]\n"
     ]
    }
   ],
   "source": [
    "gold_label_list = list()\n",
    "pair_list = list()\n",
    "for instance_list in instance_output:\n",
    "    gold_label_list.append(instance_list[2])\n",
    "    pair_tupel = (instance_list[0], instance_list[1])\n",
    "    pair_list.append(pair_tupel)\n",
    "    \n",
    "print(gold_label_list[:4])\n",
    "print(pair_list[:4])"
   ]
  },
  {
   "cell_type": "code",
   "execution_count": 16,
   "metadata": {},
   "outputs": [],
   "source": [
    "def create_content_source_dist_feats(list_of_tuples, df):\n",
    "    '''A function to add all content/source distance features to the df\n",
    "    takes- list_of_tuples = a list of tuples of tuples of indices of the paired source/content spans\n",
    "         - df = the dataframe containing the dataset\n",
    "    returns- the df with added s/c_distance, num_conts_between and num_sources_between columns. Where X is used for tokens\n",
    "    outside of the s/c pairs and numbers are given to all tokens inside of the s/c span to show the information in column'''\n",
    "    \n",
    "    df['s/c_distance'] = 'X'\n",
    "    df['num_conts_between'] = 'X'\n",
    "    df['num_sources_between'] = 'X'\n",
    "    \n",
    "    for instance in list_of_tuples:\n",
    "        instance_list = list()\n",
    "        index_list = list()\n",
    "        \n",
    "        source = instance[0]\n",
    "        b1 = source[0]\n",
    "        e1 = source[1]\n",
    "        index_list.append(e1)\n",
    "        for item in range(b1, e1):\n",
    "            index_list.append(item)\n",
    "        \n",
    "        if e1 > b1:\n",
    "            instance_list.append(e1)\n",
    "        else:\n",
    "            instance_list.append(b1)\n",
    "        \n",
    "        content = instance[1]\n",
    "        b2 = content[0]\n",
    "        e2 = content[1]\n",
    "        index_list.append(e2)\n",
    "        for item in range(b2, e2):\n",
    "            index_list.append(item)\n",
    "        \n",
    "        for index in instance_list:\n",
    "            if index < b2:\n",
    "                if b2 < e2:\n",
    "                    instance_list.append(b2)\n",
    "                else:\n",
    "                    instance_list.append(e2)\n",
    "            elif index > b2:\n",
    "                if b2 < e2:\n",
    "                    instance_list.append(e2)\n",
    "                else:\n",
    "                    instance_list.append(b2)\n",
    "        \n",
    "        if instance_list[0] < instance_list[1]:\n",
    "            distance = instance_list[1] - instance_list[0]\n",
    "        else:\n",
    "            distance = instance_list[0] - instance_list[1]\n",
    "   \n",
    "        df.loc[index_list,'s/c_distance'] = distance\n",
    "    \n",
    "        counter = 0\n",
    "        for index in list(range(instance_list[0], instance_list[1])):\n",
    "            if df.loc[index,'content_label_gold'] == 'B':\n",
    "                counter += 1\n",
    "                \n",
    "        df.loc[index_list,'num_conts_between'] = counter\n",
    "        \n",
    "        counter = 0\n",
    "        for index in list(range(instance_list[0], instance_list[1])):\n",
    "            if df.loc[index,'candidate_source'] == 'B':\n",
    "                counter += 1\n",
    "                \n",
    "        df.loc[index_list,'num_sources_between'] = counter\n",
    "        \n",
    "    return df"
   ]
  },
  {
   "cell_type": "code",
   "execution_count": 17,
   "metadata": {},
   "outputs": [
    {
     "ename": "MemoryError",
     "evalue": "",
     "output_type": "error",
     "traceback": [
      "\u001b[1;31m---------------------------------------------------------------------------\u001b[0m",
      "\u001b[1;31mMemoryError\u001b[0m                               Traceback (most recent call last)",
      "\u001b[1;32m<ipython-input-17-643b974e6133>\u001b[0m in \u001b[0;36m<module>\u001b[1;34m\u001b[0m\n\u001b[1;32m----> 1\u001b[1;33m \u001b[0mcreate_content_source_dist_feats\u001b[0m\u001b[1;33m(\u001b[0m\u001b[0mpair_list\u001b[0m\u001b[1;33m,\u001b[0m \u001b[0mdf\u001b[0m\u001b[1;33m)\u001b[0m\u001b[1;33m\u001b[0m\u001b[1;33m\u001b[0m\u001b[0m\n\u001b[0m",
      "\u001b[1;32m<ipython-input-16-0e2851c5813e>\u001b[0m in \u001b[0;36mcreate_content_source_dist_feats\u001b[1;34m(list_of_tuples, df)\u001b[0m\n\u001b[0;32m     41\u001b[0m             \u001b[1;32melif\u001b[0m \u001b[0mindex\u001b[0m \u001b[1;33m>\u001b[0m \u001b[0mb2\u001b[0m\u001b[1;33m:\u001b[0m\u001b[1;33m\u001b[0m\u001b[1;33m\u001b[0m\u001b[0m\n\u001b[0;32m     42\u001b[0m                 \u001b[1;32mif\u001b[0m \u001b[0mb2\u001b[0m \u001b[1;33m<\u001b[0m \u001b[0me2\u001b[0m\u001b[1;33m:\u001b[0m\u001b[1;33m\u001b[0m\u001b[1;33m\u001b[0m\u001b[0m\n\u001b[1;32m---> 43\u001b[1;33m                     \u001b[0minstance_list\u001b[0m\u001b[1;33m.\u001b[0m\u001b[0mappend\u001b[0m\u001b[1;33m(\u001b[0m\u001b[0me2\u001b[0m\u001b[1;33m)\u001b[0m\u001b[1;33m\u001b[0m\u001b[1;33m\u001b[0m\u001b[0m\n\u001b[0m\u001b[0;32m     44\u001b[0m                 \u001b[1;32melse\u001b[0m\u001b[1;33m:\u001b[0m\u001b[1;33m\u001b[0m\u001b[1;33m\u001b[0m\u001b[0m\n\u001b[0;32m     45\u001b[0m                     \u001b[0minstance_list\u001b[0m\u001b[1;33m.\u001b[0m\u001b[0mappend\u001b[0m\u001b[1;33m(\u001b[0m\u001b[0mb2\u001b[0m\u001b[1;33m)\u001b[0m\u001b[1;33m\u001b[0m\u001b[1;33m\u001b[0m\u001b[0m\n",
      "\u001b[1;31mMemoryError\u001b[0m: "
     ]
    }
   ],
   "source": [
    "create_content_source_dist_feats(pair_list, df)"
   ]
  },
  {
   "cell_type": "code",
   "execution_count": null,
   "metadata": {},
   "outputs": [],
   "source": []
  }
 ],
 "metadata": {
  "kernelspec": {
   "display_name": "Python 3",
   "language": "python",
   "name": "python3"
  },
  "language_info": {
   "codemirror_mode": {
    "name": "ipython",
    "version": 3
   },
   "file_extension": ".py",
   "mimetype": "text/x-python",
   "name": "python",
   "nbconvert_exporter": "python",
   "pygments_lexer": "ipython3",
   "version": "3.7.3"
  }
 },
 "nbformat": 4,
 "nbformat_minor": 2
}
