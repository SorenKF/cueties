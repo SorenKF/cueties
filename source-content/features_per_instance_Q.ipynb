{
 "cells": [
  {
   "cell_type": "code",
   "execution_count": 8,
   "metadata": {},
   "outputs": [],
   "source": [
    "import pandas as pd\n",
    "import instance_generation\n",
    "import  Vivian"
   ]
  },
  {
   "cell_type": "code",
   "execution_count": 9,
   "metadata": {},
   "outputs": [],
   "source": [
    "filepath = \"./../../Data/parc_features/parc_train_features.tsv\""
   ]
  },
  {
   "cell_type": "code",
   "execution_count": 10,
   "metadata": {},
   "outputs": [],
   "source": [
    "df = pd.read_csv(filepath, delimiter='\\t', index_col=0)"
   ]
  },
  {
   "cell_type": "code",
   "execution_count": 11,
   "metadata": {},
   "outputs": [],
   "source": [
    "instance_output = instance_generation.collect_instances_main(df)"
   ]
  },
  {
   "cell_type": "code",
   "execution_count": 5,
   "metadata": {},
   "outputs": [],
   "source": [
    "def seperate_instance_gold(instance_output):\n",
    "    \n",
    "    gold_label_list = list()\n",
    "    pair_list = list()\n",
    "    for instance_list in instance_output:\n",
    "        gold_label_list.append(instance_list[2])\n",
    "        pair_tupel = (instance_list[0], instance_list[1])\n",
    "        pair_list.append(pair_tupel)\n",
    "\n",
    "    #print(gold_label_list[:4])\n",
    "    #print(pair_list[:4])\n",
    "    \n",
    "    return pair_list, gold_label_list"
   ]
  },
  {
   "cell_type": "code",
   "execution_count": 8,
   "metadata": {},
   "outputs": [],
   "source": [
    "seperated = seperate_instance_gold(instance_output)"
   ]
  },
  {
   "cell_type": "code",
   "execution_count": 9,
   "metadata": {},
   "outputs": [],
   "source": [
    "pair_list = seperated[0]\n",
    "gold_label_list= seperated[1]"
   ]
  },
  {
   "cell_type": "code",
   "execution_count": 28,
   "metadata": {},
   "outputs": [
    {
     "name": "stdout",
     "output_type": "stream",
     "text": [
      "[((58, 59), (57, 89)), ((60, 61), (57, 89)), ((65, 68), (57, 89)), ((72, 73), (57, 89))]\n",
      "(58, 59)\n",
      "(60, 61)\n",
      "(65, 68)\n",
      "(72, 73)\n"
     ]
    }
   ],
   "source": [
    "print(pair_list[:4])\n",
    "for source, content in pair_list[:4]:\n",
    "    #print(source)"
   ]
  },
  {
   "cell_type": "code",
   "execution_count": 44,
   "metadata": {},
   "outputs": [],
   "source": [
    "def create_pair_df(pair_list, df):\n",
    "    \n",
    "    source_list = list()\n",
    "    content_list = list()\n",
    "    \n",
    "    for source, content in pair_list:\n",
    "        source_range_list = list()\n",
    "        content_range_list = list()\n",
    "        \n",
    "        for source_index in range(source[0], source[1]+1):\n",
    "            source_range_list.append(source_index)\n",
    "            \n",
    "        for content_index in range(content[0], content[1]+1):\n",
    "            content_range_list.append(content_index)\n",
    "            \n",
    "        \n",
    "        collect_source_lemma = list()\n",
    "        for item in source_range_list:\n",
    "            collect_source_lemma.append(df.loc[item,'lemma'])\n",
    "            source_list.append(collect_source_lemma)\n",
    "            \n",
    "        \n",
    "        collect_content_lemma = list()\n",
    "        for item in content_range_list:\n",
    "            collect_content_lemma.append(df.loc[item, 'lemma'])\n",
    "            content_list.append(collect_content_lemma)\n",
    "        \n",
    "        \n",
    "    main_list = list(zip(source_list,content_list ))\n",
    "        \n",
    "    pair_df = pd.DataFrame(main_list, columns = ['item1_lemma', 'item2_lemma'])\n",
    "    \n",
    "    return pair_df"
   ]
  },
  {
   "cell_type": "code",
   "execution_count": 50,
   "metadata": {},
   "outputs": [],
   "source": [
    "pair_df = create_pair_df(pair_list,df)"
   ]
  },
  {
   "cell_type": "code",
   "execution_count": 47,
   "metadata": {},
   "outputs": [],
   "source": [
    "def create_instance_list(list_of_tuples,df):\n",
    "    main_list = list()\n",
    "\n",
    "    # Loop through instances meaning content and source span indices\n",
    "    for instance in pair_list:\n",
    "        # initiate instance_list and index_list\n",
    "        attribution_indices = list()\n",
    "\n",
    "        source, content = instance\n",
    "        b_source, e_source = source\n",
    "        b_content, e_content = content\n",
    "\n",
    "        # For index of source\n",
    "        for index in range(b_source, e_source+1):  \n",
    "            attribution_indices.append(index)\n",
    "        # for index of content\n",
    "        for index in range(b_content, e_content+1):\n",
    "            attribution_indices.append(index)\n",
    "            \n",
    "        # Find gap indices\n",
    "        if b_source < b_content: \n",
    "            # If content follows source, gap is between last token of source and first of content\n",
    "            gap_indices = [e_source, b_content]\n",
    "        else:\n",
    "            # If source follows content, then visa versa\n",
    "            gap_indices = [e_content, b_source]\n",
    "\n",
    "        list_tuple = (attribution_indices, gap_indices)\n",
    "        main_list.append(list_tuple)\n",
    "        \n",
    "    return main_list"
   ]
  },
  {
   "cell_type": "code",
   "execution_count": 49,
   "metadata": {},
   "outputs": [],
   "source": [
    "main_list = create_instance_list(pair_list, df)"
   ]
  },
  {
   "cell_type": "code",
   "execution_count": null,
   "metadata": {},
   "outputs": [],
   "source": [
    "def find_sc_dist(pair_df, main_list):\n",
    "    \n",
    "    pair_df['s/c_distance'] = 'X'\n",
    "    \n",
    "    for list_tupel in main_list:\n",
    "        instance_list = list_tupel[0]\n",
    "        index_list = list_tupel[1]\n",
    "        \n",
    "        if instance_list[0] < instance_list[1]:\n",
    "            distance = instance_list[1] - instance_list[0]\n",
    "        else:\n",
    "            distance = instance_list[0] - instance_list[1]\n",
    "\n",
    "        pair_df.loc[index_list,'s/c_distance'] = distance\n",
    "\n",
    "    return pair_df"
   ]
  }
 ],
 "metadata": {
  "kernelspec": {
   "display_name": "Python 3",
   "language": "python",
   "name": "python3"
  },
  "language_info": {
   "codemirror_mode": {
    "name": "ipython",
    "version": 3
   },
   "file_extension": ".py",
   "mimetype": "text/x-python",
   "name": "python",
   "nbconvert_exporter": "python",
   "pygments_lexer": "ipython3",
   "version": "3.7.3"
  }
 },
 "nbformat": 4,
 "nbformat_minor": 2
}
