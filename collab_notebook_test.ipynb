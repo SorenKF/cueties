{
 "cells": [
  {
   "cell_type": "markdown",
   "metadata": {},
   "source": [
    "Here is a test of a notebook for collaboration."
   ]
  },
  {
   "cell_type": "code",
   "execution_count": 1,
   "metadata": {},
   "outputs": [
    {
     "output_type": "stream",
     "name": "stdout",
     "text": "hello there\n"
    }
   ],
   "source": [
    "print(\"hello there\")"
   ]
  },
  {
   "cell_type": "code",
   "execution_count": 2,
   "metadata": {},
   "outputs": [],
   "source": [
    "# Here's code for using main_utils in a notebook:\n",
    "import pandas as pd\n",
    "import os\n",
    "from main_utils import import_attribution_doc, extract_attributions\n",
    "filename = \"wsj_0008.xml.conll.features.foreval\"\n",
    "df = import_attribution_doc(filename)"
   ]
  },
  {
   "cell_type": "code",
   "execution_count": 3,
   "metadata": {},
   "outputs": [
    {
     "output_type": "stream",
     "name": "stdout",
     "text": "[{'SOURCE': (39, 41), 'CUE': (41, 42), 'CONTENT': (20, 38)}, {'SOURCE': (105, 107), 'CUE': (107, 108), 'CONTENT': (108, 122)}, {'SOURCE': None, 'CUE': (93, 96), 'CONTENT': (96, 104)}]\n"
    }
   ],
   "source": [
    "example_attributions = extract_attributions(df)\n",
    "print(example_attributions)"
   ]
  },
  {
   "cell_type": "code",
   "execution_count": 20,
   "metadata": {},
   "outputs": [
    {
     "output_type": "stream",
     "name": "stdout",
     "text": "filename  sentence_number  doc_token_number  sent_token_number  \\\n0    wsj_0008.xml                1                 1                  1   \n1    wsj_0008.xml                1                 2                  2   \n2    wsj_0008.xml                1                 3                  3   \n3    wsj_0008.xml                1                 4                  4   \n4    wsj_0008.xml                1                 5                  5   \n..            ...              ...               ...                ...   \n118  wsj_0008.xml                6               119                 14   \n119  wsj_0008.xml                6               120                 15   \n120  wsj_0008.xml                6               121                 16   \n121  wsj_0008.xml                6               122                 17   \n122  wsj_0008.xml                6               123                 18   \n\n      offset        word       lemma  POS dependency_label  \\\n0       9,12         The         the   DT              det   \n1      13,20     federal     federal   JJ             amod   \n2      21,31  government  government   NN            nsubj   \n3      32,41   suspended     suspend  VBD             root   \n4      42,47       sales        sale  NNS             dobj   \n..       ...         ...         ...  ...              ...   \n118  654,657         n't         not   RB              neg   \n119  658,661         act         act   VB            advcl   \n120  662,664          by          by   IN             case   \n121  665,669        then        then   RB             nmod   \n122  669,670           .           .    .            punct   \n\n     dependency_head_id         attribution  \n0                     3               _ _ _  \n1                     3               _ _ _  \n2                     4               _ _ _  \n3                     0               _ _ _  \n4                     4               _ _ _  \n..                  ...                 ...  \n118                  15  _ I-CONTENT-PD-1 _  \n119                   7  _ I-CONTENT-PD-1 _  \n120                  17  _ I-CONTENT-PD-1 _  \n121                  15  _ I-CONTENT-PD-1 _  \n122                   3               _ _ _  \n\n[123 rows x 11 columns]\n"
    }
   ],
   "source": [
    "print(df)"
   ]
  },
  {
   "cell_type": "code",
   "execution_count": 21,
   "metadata": {},
   "outputs": [
    {
     "output_type": "stream",
     "name": "stdout",
     "text": "filename  sentence_number  doc_token_number  sent_token_number  \\\n19   wsj_0008.xml                1                20                 20   \n23   wsj_0008.xml                2                24                  4   \n38   wsj_0008.xml                2                39                 19   \n42   wsj_0008.xml                2                43                 23   \n60   wsj_0008.xml                3                61                 18   \n76   wsj_0008.xml                4                77                 16   \n89   wsj_0008.xml                5                90                 13   \n104  wsj_0008.xml                5               105                 28   \n122  wsj_0008.xml                6               123                 18   \n\n      offset word lemma POS dependency_label  dependency_head_id  \\\n19   131,132    .     .   .            punct                   4   \n23   154,155    ,     ,   ,            punct                  10   \n38   233,234    ,     ,   ,            punct                  22   \n42   252,253    .     .   .            punct                  22   \n60   358,359    .     .   .            punct                   6   \n76   455,456    .     .   .            punct                   8   \n89   516,517    ,     ,   ,            punct                   4   \n104  586,587    .     .   .            punct                   4   \n122  669,670    .     .   .            punct                   3   \n\n            attribution  \n19                _ _ _  \n23   I-CONTENT-PD-0 _ _  \n38                _ _ _  \n42                _ _ _  \n60                _ _ _  \n76                _ _ _  \n89                _ _ _  \n104               _ _ _  \n122               _ _ _  \n"
    }
   ],
   "source": [
    "punctuation_rows = df[df['dependency_label'].str.contains('punct')]\n",
    "print(punctuation_rows)"
   ]
  }
 ],
 "metadata": {
  "file_extension": ".py",
  "kernelspec": {
   "display_name": "Python 3",
   "language": "python",
   "name": "python3"
  },
  "language_info": {
   "codemirror_mode": {
    "name": "ipython",
    "version": 3
   },
   "file_extension": ".py",
   "mimetype": "text/x-python",
   "name": "python",
   "nbconvert_exporter": "python",
   "pygments_lexer": "ipython3",
   "version": "3.7.6-final"
  },
  "mimetype": "text/x-python",
  "name": "python",
  "npconvert_exporter": "python",
  "pygments_lexer": "ipython3",
  "version": 3
 },
 "nbformat": 4,
 "nbformat_minor": 2
}