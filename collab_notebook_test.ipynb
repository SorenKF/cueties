{
 "cells": [
  {
   "cell_type": "markdown",
   "metadata": {},
   "source": [
    "Here is a test of a notebook for collaboration."
   ]
  },
  {
   "cell_type": "code",
   "execution_count": 1,
   "metadata": {},
   "outputs": [
    {
     "name": "stdout",
     "output_type": "stream",
     "text": [
      "hello there\n"
     ]
    }
   ],
   "source": [
    "print(\"hello there\")"
   ]
  },
  {
   "cell_type": "code",
   "execution_count": 3,
   "metadata": {},
   "outputs": [],
   "source": [
    "# Here's code for using main_utils in a notebook:\n",
    "import pandas as pd\n",
    "import os\n",
    "from main_utils import import_attribution_doc, extract_attributions\n",
    "filename = \"wsj_0008.xml.conll.features.foreval\"\n",
    "df = import_attribution_doc(filename)"
   ]
  },
  {
   "cell_type": "code",
   "execution_count": 4,
   "metadata": {},
   "outputs": [
    {
     "name": "stdout",
     "output_type": "stream",
     "text": [
      "[{'SOURCE': (39, 41), 'CUE': (41, 42), 'CONTENT': (20, 38)}, {'SOURCE': (105, 107), 'CUE': (107, 108), 'CONTENT': (108, 122)}, {'SOURCE': None, 'CUE': (93, 96), 'CONTENT': (96, 104)}]\n"
     ]
    }
   ],
   "source": [
    "example_attributions = extract_attributions(df)\n",
    "print(example_attributions)"
   ]
  },
  {
   "cell_type": "code",
   "execution_count": 7,
   "metadata": {},
   "outputs": [
    {
     "name": "stdout",
     "output_type": "stream",
     "text": [
      "Cue #1:\n",
      "said VBD\n",
      "Cue #2:\n",
      "said VBD\n",
      "Cue #3:\n",
      "is VBZ\n",
      "n't RB\n",
      "expected VBN\n"
     ]
    }
   ],
   "source": [
    "# Example usage of attribution spans (prints \"word\" and \"POS\" for each token in each CUE):\n",
    "for i in range(len(example_attributions)):\n",
    "    attribution = example_attributions[i]\n",
    "    cue_span = attribution[\"CUE\"]\n",
    "    print(f\"Cue #{i+1}:\")\n",
    "    for i in range(cue_span[0], cue_span[1]):\n",
    "        print(df[\"word\"][i], df[\"POS\"][i])"
   ]
  },
  {
   "cell_type": "code",
   "execution_count": null,
   "metadata": {},
   "outputs": [],
   "source": [
    "# Code for iterating through a corpus directory and applying the functions in main_utils to each file\n",
    "# This is really slow; almost certainly *DON'T* run this from a notebook; copy into a .py file and run from\n",
    "# command line\n",
    "# Currently works to count all attributions in all files in the corpus, but can obviously be adapted\n",
    "# to do whatever\n",
    "\n",
    "# Replace with your path (obvs)\n",
    "parc_directory = \"C:/Users/natha/Documents/NLP_foundations/NLP_Part2/parc30-conll/train-conll-foreval/\"\n",
    "\n",
    "total_attributions = 0\n",
    "i = 0\n",
    "for filename in os.listdir(parc_directory):\n",
    "    if i % 100 == 0:\n",
    "        # This bit just lets you know where you are (prints some stuff every 100 files)\n",
    "        print(filename)\n",
    "        print(f\"running total: {total_attributions}\")\n",
    "    df = import_attribution_doc(parc_directory+filename)\n",
    "    if df[\"attribution\"][0] != 0:\n",
    "        atts = extract_attributions(df)\n",
    "        total_attributions += len(atts)"
   ]
  }
 ],
 "metadata": {
  "file_extension": ".py",
  "kernelspec": {
   "display_name": "Python 3",
   "language": "python",
   "name": "python3"
  },
  "language_info": {
   "codemirror_mode": {
    "name": "ipython",
    "version": 3
   },
   "file_extension": ".py",
   "mimetype": "text/x-python",
   "name": "python",
   "nbconvert_exporter": "python",
   "pygments_lexer": "ipython3",
   "version": "3.7.3"
  },
  "mimetype": "text/x-python",
  "name": "python",
  "npconvert_exporter": "python",
  "pygments_lexer": "ipython3",
  "version": 3
 },
 "nbformat": 4,
 "nbformat_minor": 2
}
